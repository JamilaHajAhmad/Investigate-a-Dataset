{
 "cells": [
  {
   "cell_type": "markdown",
   "metadata": {},
   "source": [
    "# Project: Investigate a Dataset - Medical Appointment No Shows"
   ]
  },
  {
   "cell_type": "markdown",
   "metadata": {},
   "source": [
    "<a id='intro'></a>\n",
    "## Introduction\n",
    "\n",
    "### Dataset Description \n",
    "What if the appointment you didn't show for was crucial for your health?...<br>\n",
    "What did you miss?...<br>\n",
    "The dataset contains information about medical appointments in Brazil, including patient ID, appointment ID, gender, age, appointment date, scheduled appointment date, neighborhood, SMS received, and no-show status. The dataset was collected from [Kaggle](https://www.kaggle.com/joniarroba/noshowappointments).<br>\n",
    "Primarily, this analysis will figure out why would any person miss a medical appointment.<br>\n",
    "<table>\n",
    "    <thead>\n",
    "        <tr>\n",
    "            <th>Column</th>\n",
    "            <th>Description</th>\n",
    "        </tr>\n",
    "    </thead>\n",
    "    <tbody>\n",
    "        <tr>\n",
    "            <td>PatientId</td>\n",
    "            <td>Unique identifier for each patient</td>\n",
    "        </tr>\n",
    "        <tr>\n",
    "            <td>AppointmentID</td>\n",
    "            <td>Unique identifier for each appointment</td>\n",
    "        </tr>\n",
    "        <tr>\n",
    "            <td>Gender</td>\n",
    "            <td>Male or Female</td>\n",
    "        </tr>\n",
    "        <tr>\n",
    "            <td>ScheduledDay</td>\n",
    "            <td>The day of the actual appointment, when they have to visit the doctor.</td>\n",
    "        </tr>\n",
    "        <tr>\n",
    "            <td>AppointmentDay</td>\n",
    "            <td>The day someone called or registered the appointment, this is before appointment of course.</td>\n",
    "        </tr>\n",
    "        <tr>\n",
    "            <td>Age</td>\n",
    "            <td>How old is the patient.</td>\n",
    "        </tr>\n",
    "        <tr>\n",
    "            <td>Neighborhood</td>\n",
    "            <td>Where the appointment takes place.</td>\n",
    "        </tr>\n",
    "        <tr>\n",
    "            <td>Scholarship</td>\n",
    "            <td>True if the patient was enrolled in Brasilian welfare program called Scholarship, False otherwise.</td>\n",
    "        </tr>\n",
    "        <tr>\n",
    "            <td>Hypertension</td>\n",
    "            <td>True if the patient has hypertension, False otherwise.</td>\n",
    "        <tr>\n",
    "        <tr>\n",
    "            <td>Diabetes</td>\n",
    "            <td>True if the patient has diabetes, False otherwise.</td>\n",
    "        </tr>\n",
    "        <tr>\n",
    "            <td>Alcoholism</td>\n",
    "            <td>True if the patient is an alcoholic, False otherwise.</td>\n",
    "        </tr>\n",
    "        <tr>\n",
    "            <td>Handcap</td>\n",
    "            <td>True if the patient has a handcap, False otherwise.</td>\n",
    "        </tr>\n",
    "        <tr>\n",
    "            <td>SMS_received</td>\n",
    "            <td>1 or more messages sent to the patient.</td>\n",
    "        </tr>\n",
    "        <tr>\n",
    "            <td>No-show</td>\n",
    "            <td>True if the patient did not show up to their appointment, False otherwise.</td>\n",
    "        </tr>\n",
    "</table>\n",
    "\n",
    "### Question(s) for Analysis\n",
    "\n",
    "- What is the relationship between the patient's age, gender, and no-show status?\n",
    "- How does the number of SMS received affect the no-show status?\n",
    "- What is the distribution of no-shows across different neighborhoods?"
   ]
  },
  {
   "cell_type": "code",
   "execution_count": 2,
   "metadata": {},
   "outputs": [],
   "source": [
    "import numpy as np \n",
    "import pandas as pd"
   ]
  },
  {
   "cell_type": "markdown",
   "metadata": {},
   "source": [
    "<a id='wrangling'></a>\n",
    "## Data Wrangling"
   ]
  },
  {
   "cell_type": "code",
   "execution_count": null,
   "metadata": {},
   "outputs": [],
   "source": [
    "# Read the csv file and make a DataFrame\n",
    "df = pd.read_csv('./noshowappointments-kagglev2-may-2016.csv')\n",
    "\n",
    "# Display the first few rows of the dataset\n",
    "\n",
    "df.head()\n",
    "\n",
    "# Shape of the DataFrame\n",
    "\n",
    "df.shape\n",
    "\n",
    "# Inspect the datatypes and more with .info() function\n",
    "\n",
    "df.info()\n",
    "\n",
    "''' Fortunately, there is no missing values in the dataset as will appear from the returned data from .info() function'''\n",
    "\n",
    "# Check for missing values (Further assurance)\n",
    "\n",
    "df.isnull().sum()\n",
    "\n",
    "# Get primary measures by .describe() function\n",
    "\n",
    "df.describe()\n",
    "\n",
    "# Check for unique values \n",
    "\n",
    "df.nunique()"
   ]
  },
  {
   "cell_type": "markdown",
   "metadata": {},
   "source": [
    "### Data Cleaning"
   ]
  },
  {
   "cell_type": "markdown",
   "metadata": {},
   "source": [
    "First step of cleaning will be the removal of patientID and appointmentID from the DataFrame since they are not useful\n",
    "in the analysis process"
   ]
  },
  {
   "cell_type": "code",
   "execution_count": null,
   "metadata": {},
   "outputs": [],
   "source": [
    "# Drop the 'PatientId' and 'AppointmentID' columns as they don't provide any useful information\n",
    "\n",
    "df.drop(['PatientId', 'AppointmentID'], axis=1, inplace=True)\n",
    "\n",
    "# Get a few lines from the DataFrame to check the drop operation\n",
    "\n",
    "df.head()"
   ]
  },
  {
   "cell_type": "markdown",
   "metadata": {},
   "source": [
    "Now, we want to change the datatype of scheduledDay and appointmentDay to datetime"
   ]
  },
  {
   "cell_type": "code",
   "execution_count": null,
   "metadata": {},
   "outputs": [],
   "source": [
    "# Convert the datatype to datetime\n",
    "\n",
    "df['ScheduledDay'] = pd.to_datetime(df['ScheduledDay'])\n",
    "df['AppointmentDay'] = pd.to_datetime(df['AppointmentDay'])\n",
    "\n",
    "# Display the first few rows of the DataFrame to check the conversion\n",
    "\n",
    "df.head()"
   ]
  },
  {
   "cell_type": "markdown",
   "metadata": {},
   "source": [
    "Next, let's convert the 'No-show' column to boolean. True means the patient did not show up, False means the patient did show up."
   ]
  },
  {
   "cell_type": "code",
   "execution_count": null,
   "metadata": {},
   "outputs": [],
   "source": [
    "# Convert the datatype to boolean\n",
    "\n",
    "df['No-show'] = df['No-show'].apply(lambda x: True if x == 'Yes' else False)\n",
    "\n",
    "# Display the first few rows of the DataFrame to check the conversion\n",
    "\n",
    "df.head()"
   ]
  },
  {
   "cell_type": "code",
   "execution_count": null,
   "metadata": {},
   "outputs": [],
   "source": [
    "# Check the datatypes again\n",
    "\n",
    "df.info()"
   ]
  },
  {
   "cell_type": "markdown",
   "metadata": {},
   "source": [
    "Here I want to rename the hipertension column into hypertension"
   ]
  },
  {
   "cell_type": "code",
   "execution_count": 7,
   "metadata": {},
   "outputs": [],
   "source": [
    "# Renaming the column name\n",
    "\n",
    "df.rename(columns={'Hipertension': 'Hypertension'}, inplace=True)"
   ]
  },
  {
   "cell_type": "code",
   "execution_count": null,
   "metadata": {},
   "outputs": [],
   "source": [
    "# Check the conversion\n",
    "\n",
    "df.info()"
   ]
  },
  {
   "cell_type": "markdown",
   "metadata": {},
   "source": [
    "Currently, let's convert the 'Scholarship', 'Hypertension', 'Diabetes', 'Alcoholism','Handcap'<br>\n",
    "and 'SMS_received' columns to boolean. True means the patient has the condition, False means the patient does not have the condition.\n",
    "\n",
    "\n"
   ]
  },
  {
   "cell_type": "code",
   "execution_count": null,
   "metadata": {},
   "outputs": [],
   "source": [
    "# Convert the datatypes to boolean\n",
    "\n",
    "df['Scholarship'] = df['Scholarship'].apply(lambda x: True if x == 1 else False)\n",
    "df['Hypertension'] = df['Hypertension'].apply(lambda x: True if x == 1 else False)\n",
    "df['Diabetes'] = df['Diabetes'].apply(lambda x: True if x == 1 else False)\n",
    "df['Alcoholism'] = df['Alcoholism'].apply(lambda x: True if x == 1 else False)\n",
    "df['Handcap'] = df['Handcap'].apply(lambda x: True if x == 1 else False)\n",
    "df['SMS_received'] = df['SMS_received'].apply(lambda x: True if x > 0 else False)\n",
    "\n",
    "# Display the first few rows of the DataFrame to check the conversion\n",
    "\n",
    "df.head()"
   ]
  },
  {
   "cell_type": "markdown",
   "metadata": {},
   "source": [
    "Now, We have to convert the names of columns to lower case"
   ]
  },
  {
   "cell_type": "code",
   "execution_count": null,
   "metadata": {},
   "outputs": [],
   "source": [
    "# Convert column names to lower case\n",
    "\n",
    "df.columns = df.columns.str.lower()\n",
    "\n",
    "# Display the DataFrame columns to check the conversion\n",
    "\n",
    "df.columns"
   ]
  },
  {
   "cell_type": "markdown",
   "metadata": {},
   "source": [
    "Lastly, I will optimize the datatype of some columns in order to optimize the usage of memory allocation"
   ]
  },
  {
   "cell_type": "code",
   "execution_count": null,
   "metadata": {},
   "outputs": [],
   "source": [
    "# Convert the datatypes to the most memory-efficient types\n",
    "\n",
    "df['age'] = df['age'].astype('int8')\n",
    "\n",
    "# Check the new datatype and memory allocation\n",
    "\n",
    "df.info()\n",
    "df.head()"
   ]
  },
  {
   "cell_type": "markdown",
   "metadata": {},
   "source": [
    "Now, the dataset is clean and optimized. We have converted the necessary columns to boolean, converted the datatype to the <br>\n",
    "most memory-efficient types, and renamed the column 'Hipertension' to 'Hypertension'. We have also dropped the <br> 'PatientId' and 'AppointmentID' columns.\n",
    "\n",
    "Next, we will move on to the next step of data analysis, which is exploring the relationships between different <br> variables and answering the questions we posed earlier.\n"
   ]
  },
  {
   "cell_type": "markdown",
   "metadata": {},
   "source": [
    "<a id='eda'></a>\n",
    "## Exploratory Data Analysis"
   ]
  },
  {
   "cell_type": "markdown",
   "metadata": {},
   "source": [
    "Now, we will analyze the data to answer the questions we posed earlier."
   ]
  },
  {
   "cell_type": "markdown",
   "metadata": {},
   "source": [
    "### Research Question 1"
   ]
  },
  {
   "cell_type": "markdown",
   "metadata": {},
   "source": [
    "First, we want to see the percentage of the no-shows"
   ]
  },
  {
   "cell_type": "code",
   "execution_count": null,
   "metadata": {},
   "outputs": [],
   "source": [
    "# Calculate the percentage of no-shows\n",
    "\n",
    "no_shows_percentage = (df['no-show'].sum() / df.shape[0]) * 100\n",
    "no_shows_percentage"
   ]
  },
  {
   "cell_type": "markdown",
   "metadata": {},
   "source": [
    "The dataset contains approximately 20.2% no-shows.<br>\n",
    "This means that approximately 20.2% of the patients did not show up to their appointments, which is actually a small percentage, isn't it? :)"
   ]
  },
  {
   "cell_type": "markdown",
   "metadata": {},
   "source": [
    "Let's make a chart to graphically figure out the percentage of no-show status in the dataset"
   ]
  },
  {
   "cell_type": "code",
   "execution_count": null,
   "metadata": {},
   "outputs": [],
   "source": [
    "# Plot a chart for no-show status in the dataset (Pie chart)\n",
    "\n",
    "df['no-show'].value_counts().plot(\n",
    "    kind='pie', \n",
    "    figsize=(8, 6), \n",
    "    title='No-Show Status in the Dataset',\n",
    "    xlabel='No-show status', \n",
    "    ylabel='Count', \n",
    "    legend=True,\n",
    "    colors=['lightcoral', 'lightskyblue']);"
   ]
  },
  {
   "cell_type": "markdown",
   "metadata": {},
   "source": [
    "\n",
    "The pie chart shows that approximately 79.8% of the patients did not show up to their appointments, and approximately 20.2% did show up.<br>"
   ]
  },
  {
   "cell_type": "markdown",
   "metadata": {},
   "source": [
    "#### Reasoning Behind the Pie Chart\n",
    "**Purpose**: It provides a visual summary of the proportion of patients who showed up for their<br> appointments versus those who did not.\n",
    "\n",
    "**Insights**: This visualization helps quickly grasp how common missed appointments are compared to attended ones,<br> which can be essential for analyzing factors related to no-shows or studying appointment compliance.\n"
   ]
  },
  {
   "cell_type": "code",
   "execution_count": null,
   "metadata": {},
   "outputs": [],
   "source": [
    "# Plot a chart for no-show status in the dataset\n",
    "\n",
    "df['no-show'].value_counts().plot(\n",
    "    kind='bar', \n",
    "    figsize=(8, 6), \n",
    "    title='No-Show Status in the Dataset',\n",
    "    xlabel='No-show status', \n",
    "    ylabel='Count', \n",
    "    legend=True, \n",
    "    color='Coral');"
   ]
  },
  {
   "cell_type": "markdown",
   "metadata": {},
   "source": [
    "\n",
    "Same result ofcourse but with different type of graphs :)"
   ]
  },
  {
   "cell_type": "markdown",
   "metadata": {},
   "source": [
    "#### Reasoning Behind the Bar Chart\n",
    "A bar chart is often more precise for comparing counts or identifying trends, as the length of the bars<br> makes it easy to compare exact numbers and proportions.<br>\n",
    "You can easily see which status has a higher count and by how much."
   ]
  },
  {
   "cell_type": "markdown",
   "metadata": {},
   "source": [
    "Next, let's find out the relationship between the patient's age, gender, and no-show status.<br>\n",
    "First with the age..."
   ]
  },
  {
   "cell_type": "code",
   "execution_count": null,
   "metadata": {},
   "outputs": [],
   "source": [
    "# Calculate the mean age of no-shows and shows\n",
    "\n",
    "no_shows_age = df[df['no-show'] == True]['age'].mean()\n",
    "shows_age = df[df['no-show'] == False]['age'].mean()\n",
    "\n",
    "print(np.round(no_shows_age))\n",
    "print(np.round(shows_age))"
   ]
  },
  {
   "cell_type": "markdown",
   "metadata": {},
   "source": [
    "The mean age of no-shows is approximately 34, and the mean age of shows is approximately 38.<br> This indicates that the average age of patients who did not show up to their appointments is slightly<br> **younger** than the average age of patients who did show up.<br>"
   ]
  },
  {
   "cell_type": "markdown",
   "metadata": {},
   "source": [
    "Now, let's figure out the relationship between gender and no-show status"
   ]
  },
  {
   "cell_type": "code",
   "execution_count": null,
   "metadata": {},
   "outputs": [],
   "source": [
    "# Calculate the percentage of no-shows for each gender\n",
    "\n",
    "def calculation(argument):\n",
    "    result = df[df['no-show'] == True][argument].value_counts(normalize=True) * 100\n",
    "    return result\n",
    "\n",
    "no_shows_gender = calculation('gender')\n",
    "\n",
    "print(no_shows_gender)"
   ]
  },
  {
   "cell_type": "markdown",
   "metadata": {},
   "source": [
    "\n",
    "The percentage of no-shows for females is approximately 65.4%, and the percentage of no-shows for males is approximately 35%.<br> This indicates that females are more likely to not show up to their appointments than males."
   ]
  },
  {
   "cell_type": "markdown",
   "metadata": {},
   "source": [
    "Now, let's plot to find the relationship between age and no-show, and the relationship between gender and no-show."
   ]
  },
  {
   "cell_type": "code",
   "execution_count": null,
   "metadata": {},
   "outputs": [],
   "source": [
    "# Plot the distribution of no-shows by age\n",
    "\n",
    "df[df['no-show'] == True]['age'].plot(\n",
    "    kind='hist',\n",
    "    figsize=(12, 6), \n",
    "    alpha=0.7, \n",
    "    grid=True,\n",
    "    color='lightcoral', \n",
    "    title='Distribution of No-shows by Age', \n",
    "    xlabel='Age',\n",
    "    ylabel='Number of No-shows',\n",
    "    legend=True\n",
    ");"
   ]
  },
  {
   "cell_type": "markdown",
   "metadata": {},
   "source": [
    "#### Reasoning Behind the Histogram\n",
    "The histogram shows how the ages of patients who missed their appointments are distributed.<br> This can reveal age groups that might have higher rates of no-shows.<br>\n",
    "If certain age ranges, such as younger or older adults, show a higher frequency of no-shows,<br> this might inform targeted interventions or strategies to reduce no-show rates."
   ]
  },
  {
   "cell_type": "markdown",
   "metadata": {},
   "source": [
    "### Research Question 2"
   ]
  },
  {
   "cell_type": "markdown",
   "metadata": {},
   "source": [
    "Now, we want to find how would the sms_received affect the no-show status?"
   ]
  },
  {
   "cell_type": "code",
   "execution_count": null,
   "metadata": {},
   "outputs": [],
   "source": [
    "# Calculate the percentage of no-shows for each SMS received status\n",
    "\n",
    "no_shows_sms = calculation('sms_received')\n",
    "\n",
    "print(no_shows_sms)"
   ]
  },
  {
   "cell_type": "markdown",
   "metadata": {},
   "source": [
    "\n",
    "The percentage of no-shows for patients who received no messages is approximately 56%, and the percentage of no-shows for patients who received at least one message is approximately 44%.<br> This indicates that receiving messages affects the no-show status.\n",
    "\n",
    "Now, let's plot the distribution of no-shows by sms_received\n",
    "\n"
   ]
  },
  {
   "cell_type": "code",
   "execution_count": null,
   "metadata": {},
   "outputs": [],
   "source": [
    "df[df['no-show'] == True].groupby('sms_received')['sms_received'].mean(numeric_only=True).plot(\n",
    "    x='no-show', \n",
    "    y='sms_received', \n",
    "    kind='bar',\n",
    "    title='Distribution of No-show by SMS Received', \n",
    "    ylabel='No-show', \n",
    "    legend=True,\n",
    "    color='Chartreuse');"
   ]
  },
  {
   "cell_type": "markdown",
   "metadata": {},
   "source": [
    "#### Reasoning\n",
    "If patients who did not receive an SMS (0) have higher no-show rates than those who did (1), it suggests that SMS reminders may be effective in reducing missed appointments."
   ]
  },
  {
   "cell_type": "markdown",
   "metadata": {},
   "source": [
    "### Research Question 3"
   ]
  },
  {
   "cell_type": "markdown",
   "metadata": {},
   "source": [
    "Now, we want to find the distribution of no-shows across different neighborhoods\n",
    "\n"
   ]
  },
  {
   "cell_type": "code",
   "execution_count": null,
   "metadata": {},
   "outputs": [],
   "source": [
    "# Calculate the percentage of no-shows for each neighborhood\n",
    "\n",
    "no_shows_neighborhood = calculation('neighbourhood')\n",
    "\n",
    "print(no_shows_neighborhood.sort_values(ascending=False).head())\n",
    "print(no_shows_neighborhood.max())"
   ]
  },
  {
   "cell_type": "markdown",
   "metadata": {},
   "source": [
    "\n",
    "The neighborhood with the highest percentage of no-shows is 'JARDIM CAMBURI ', with approximately 6.6% of no-shows.<br> The second highest percentage of no-shows is 'MARIA ORTIZL', with approximately 5.5% of no-shows.<br> The third highest percentage of no-shows is 'ITARARÉ', with approximately 4% of no-shows.\n",
    "\n",
    "Now, let's plot the distribution of no-shows by neighborhood\n",
    "\n"
   ]
  },
  {
   "cell_type": "code",
   "execution_count": null,
   "metadata": {},
   "outputs": [],
   "source": [
    "\n",
    "df[df['no-show'] == True]['neighbourhood'].value_counts().plot(\n",
    "    kind='bar',\n",
    "    figsize=(15, 5),\n",
    "    legend=True, \n",
    "    xlabel='Neighbourhood',\n",
    "    ylabel='No-show', \n",
    "    title='Distribution of No-shows by Neighbourhood',\n",
    "    color='lightgreen');"
   ]
  },
  {
   "cell_type": "markdown",
   "metadata": {},
   "source": [
    "#### Reasoning\n",
    "High counts in certain neighborhoods might indicate factors influencing no-show rates,<br> such as accessibility, socio-economic conditions, or healthcare awareness.<br> This information could be used to target specific neighborhoods for improvement strategies."
   ]
  },
  {
   "cell_type": "markdown",
   "metadata": {},
   "source": [
    "\n",
    "<a id='conclusions'></a>\n",
    "## Conclusions"
   ]
  },
  {
   "cell_type": "markdown",
   "metadata": {},
   "source": [
    "\n",
    "1. The dataset contains approximately 20.2% no-shows.<br>\n",
    "2. The average age of patients who did not show up to their appointments is slightly younger than the average age of patients who did show up.<br>\n",
    "3. Females are more likely to not show up to their appointments than males.<br>\n",
    "4. Receiving messages affects the no-show status.<br>\n",
    "5. The neighborhood with the highest percentage of no-shows is 'JARDIM CAMBURI ', with approximately 6.6% of no-shows.<br>\n",
    "6. The second highest percentage of no-shows is 'MARIA ORTIZL', with approximately 5.5% of no-shows.<br>\n",
    "7. The third highest percentage of no-shows is 'ITARARÉ', with approximately 4% of no-shows.<br>\n",
    "8. The dataset is clean and optimized for memory allocation, with most columns converted to boolean and the datatype of 'age' optimized to 'int8'.<br>\n",
    "9. The dataset can be used to answer the questions posed earlier, and the relationships between different variables and no-show status can be visualized using plots.\n",
    "\n",
    "#### Limitations\n",
    "1. The dataset may not be representative of all patients, as it does not include information about other factors that could influence no-show status.<br>\n",
    "2. The dataset may not include all possible demographic groups, as it does not include information about patients who were not enrolled in the study.<br>\n",
    "3. The dataset may not include all possible reasons for no-show, as it does not include information about patients who were not enrolled in the study.<br>\n",
    "4. The dataset may not include all possible neighborhoods, as it does not include information about patients who were not enrolled in the study.<br>\n",
    "\n",
    "\n"
   ]
  }
 ],
 "metadata": {
  "kernelspec": {
   "display_name": "Python 3",
   "language": "python",
   "name": "python3"
  },
  "language_info": {
   "codemirror_mode": {
    "name": "ipython",
    "version": 3
   },
   "file_extension": ".py",
   "mimetype": "text/x-python",
   "name": "python",
   "nbconvert_exporter": "python",
   "pygments_lexer": "ipython3",
   "version": "3.12.3"
  }
 },
 "nbformat": 4,
 "nbformat_minor": 2
}
